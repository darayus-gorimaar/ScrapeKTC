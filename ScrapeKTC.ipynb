{
  "nbformat": 4,
  "nbformat_minor": 0,
  "metadata": {
    "colab": {
      "provenance": [],
      "authorship_tag": "ABX9TyOTPAbTsSZFuNJ8JFLaes5B",
      "include_colab_link": true
    },
    "kernelspec": {
      "name": "python3",
      "display_name": "Python 3"
    },
    "language_info": {
      "name": "python"
    }
  },
  "cells": [
    {
      "cell_type": "markdown",
      "metadata": {
        "id": "view-in-github",
        "colab_type": "text"
      },
      "source": [
        "<a href=\"https://colab.research.google.com/github/darayus-gorimaar/ScrapeKTC/blob/main/ScrapeKTC.ipynb\" target=\"_parent\"><img src=\"https://colab.research.google.com/assets/colab-badge.svg\" alt=\"Open In Colab\"/></a>"
      ]
    },
    {
      "cell_type": "code",
      "execution_count": null,
      "metadata": {
        "colab": {
          "base_uri": "https://localhost:8080/"
        },
        "id": "9XyZsLLIMGdB",
        "outputId": "0bbcc148-6a3e-4244-d3cb-c6384e56068c"
      },
      "outputs": [
        {
          "output_type": "stream",
          "name": "stdout",
          "text": [
            "                 Player Rating\n",
            "0            Josh Allen   9999\n",
            "1         Ja'Marr Chase   9999\n",
            "2        Jayden Daniels   9997\n",
            "3         Lamar Jackson   9985\n",
            "4      Justin Jefferson   9233\n",
            "5          Malik Nabers   8392\n",
            "6          Jahmyr Gibbs   8325\n",
            "7            Joe Burrow   8295\n",
            "8           Jalen Hurts   8198\n",
            "9          Brock Bowers   8178\n",
            "10       Bijan Robinson   8085\n",
            "11          CeeDee Lamb   7840\n",
            "12           Puka Nacua   7690\n",
            "13     Brian Thomas Jr.   7633\n",
            "14    Amon-Ra St. Brown   7600\n",
            "15      Patrick Mahomes   7010\n",
            "16       Justin Herbert   6903\n",
            "17        Ashton Jeanty   6847\n",
            "18         Nico Collins   6822\n",
            "19           Drake Maye   6809\n",
            "20       Caleb Williams   6697\n",
            "21          C.J. Stroud   6690\n",
            "22         Drake London   6660\n",
            "23       Saquon Barkley   6656\n",
            "24  Marvin Harrison Jr.   6561\n",
            "25        Ladd McConkey   6525\n",
            "26   Jaxon Smith-Njigba   6521\n",
            "27               Bo Nix   6489\n",
            "28         Trey McBride   6484\n",
            "29       2025 Early 1st   6389\n",
            "30          Jordan Love   6377\n",
            "31        De'Von Achane   6339\n",
            "32           A.J. Brown   6281\n",
            "33       Garrett Wilson   6235\n",
            "34          Breece Hall   5967\n",
            "35     Tetairoa McMilan   5964\n",
            "36       2026 Early 1st   5734\n",
            "37         Bucky Irving   5689\n",
            "38         Kyler Murray   5615\n",
            "39          Tee Higgins   5592\n",
            "40          Brock Purdy   5564\n",
            "41       Baker Mayfield   5518\n",
            "42       2027 Early 1st   5498\n",
            "43       Kyren Williams   5474\n",
            "44          Rome Odunze   5467\n",
            "45          Rashee Rice   5460\n",
            "46      Trevor Lawrence   5439\n",
            "47      Jonathan Taylor   5410\n",
            "48           James Cook   5399\n",
            "49        J.J. McCarthy   5384\n"
          ]
        }
      ],
      "source": [
        "import requests\n",
        "import pandas as pd\n",
        "from bs4 import BeautifulSoup\n",
        "\n",
        "def scrape_ktc_rankings():\n",
        "    url = \"https://keeptradecut.com/dynasty-rankings\"\n",
        "    headers = {\"User-Agent\": \"Mozilla/5.0\"}\n",
        "\n",
        "    response = requests.get(url, headers=headers)\n",
        "    if response.status_code != 200:\n",
        "        print(\"Failed to retrieve page\")\n",
        "        return\n",
        "\n",
        "    soup = BeautifulSoup(response.text, \"html.parser\")\n",
        "    players = []\n",
        "\n",
        "\n",
        "    for player_row in soup.select(\".onePlayer\"):\n",
        "        name_tag = player_row.select_one(\".player-name a\")\n",
        "        rank_tag = player_row.select_one(\".value\")\n",
        "\n",
        "        if name_tag and rank_tag:\n",
        "            name = name_tag.text.strip()\n",
        "            rating = rank_tag.text.strip()\n",
        "            players.append((name, rating))\n",
        "\n",
        "    df = pd.DataFrame(players, columns=[\"Player\", \"Rating\"])\n",
        "    return df;\n",
        "\n",
        "rankings_df = scrape_ktc_rankings()\n",
        "print(rankings_df)"
      ]
    }
  ]
}